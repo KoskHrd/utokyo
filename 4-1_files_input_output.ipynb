{
 "cells": [
  {
   "cell_type": "code",
   "execution_count": 62,
   "metadata": {},
   "outputs": [],
   "source": [
    "def wget(url, file_name):\n",
    "    import urllib.request\n",
    "    with urllib.request.urlopen(url) as u:\n",
    "        with open(file_name, 'bw') as o:\n",
    "            o.write(u.read())"
   ]
  },
  {
   "cell_type": "code",
   "execution_count": 64,
   "metadata": {
    "tags": []
   },
   "outputs": [],
   "source": [
    "##====================================================\n",
    "## このセルを最初に実行せよ---Run this cell initially.\n",
    "##====================================================\n",
    "#import sys\n",
    "#if 'google.colab' in sys.modules:\n",
    "#!wget -P . https://raw.githubusercontent.com/UTokyo-IPP/utpython/master/4/sample.txt\n",
    "#!wget -P . https://raw.githubusercontent.com/UTokyo-IPP/utpython/master/4/shift_jis.txt\n",
    "#!wget -P . https://raw.githubusercontent.com/UTokyo-IPP/utpython/master/4/test.txt\n",
    "#!wget -P . https://raw.githubusercontent.com/UTokyo-IPP/utpython/master/4/utf-8.txt\n",
    "#!wget -P ./text https://raw.githubusercontent.com/UTokyo-IPP/utpython/master/4/text/novel.txt\n",
    "\n",
    "wget('https://raw.githubusercontent.com/UTokyo-IPP/utpython/master/4/sample.txt', 'sample.txt')\n",
    "wget('https://raw.githubusercontent.com/UTokyo-IPP/utpython/master/4/shift_jis.txt', 'shift_jis.txt')\n",
    "wget('https://raw.githubusercontent.com/UTokyo-IPP/utpython/master/4/test.txt', 'test.txt')\n",
    "wget('https://raw.githubusercontent.com/UTokyo-IPP/utpython/master/4/utf-8.txt', 'utf-8.txt')\n",
    "wget('https://raw.githubusercontent.com/UTokyo-IPP/utpython/master/4/text/novel.txt', './text/novel.txt')"
   ]
  },
  {
   "cell_type": "markdown",
   "metadata": {},
   "source": [
    "# ファイルのオープン¶\n",
    "ファイルから文字列を読み込んだり、ファイルに書き込んだりするには、 まず、open() という関数によってファイルをオープンする（開く）必要があります。"
   ]
  },
  {
   "cell_type": "code",
   "execution_count": 65,
   "metadata": {},
   "outputs": [],
   "source": [
    "f = open('sample.txt', 'r')"
   ]
  },
  {
   "cell_type": "markdown",
   "metadata": {},
   "source": [
    "変数 f には、ファイルを読み書きするためのデータが入ります。 これをファイルオブジェクトと呼びます。\n",
    "\n",
    "'sample.txt' はファイル名で、そのファイルの絶対パス名か、このノートブックからの相対パス名を指定します。\n",
    "\n",
    "ここでは、sample.txt という名前のファイルがこのノートブックと同じディレクトリにあることを想定しています。\n",
    "\n",
    "たとえば、novel.txt というファイルが、ノートブックの1段上のディレクトリ（このディレクトリが入っているディレクトリ）にあるならば、'../novel.txt' と指定します。 ノートブックの1段上のディレクトリに置かれている data というディレクトリにあるならば、'../data/novel.txt' となります （4-3にもう少し詳しい解説があります）。\n",
    "\n",
    "'r' はファイルをどのモードで開くかを指しており、'r'は読み込みモードを意味します。 このモードで開いたファイルに書き込みすることはできません。\n",
    "\n",
    "モードには次のような種類があります。\n",
    "\n",
    "| 記号 モード |\n",
    "|-|-|-|-|\n",
    "| r 読み込み | w 書き込み | a 追記 | + 読み書き両方を指定したい場合に使用 |\n",
    "\n",
    "書き込みについては後でも説明します。"
   ]
  },
  {
   "cell_type": "markdown",
   "metadata": {},
   "source": [
    "# ファイルのクローズ\n",
    "ファイルオブジェクトを使い終わったら、原則として、close() メソッドを呼び出して、クローズする（閉じる）必要があります。"
   ]
  },
  {
   "cell_type": "code",
   "execution_count": 66,
   "metadata": {},
   "outputs": [],
   "source": [
    "f.close()"
   ]
  },
  {
   "cell_type": "markdown",
   "metadata": {},
   "source": [
    "close() を呼び出さずに放置すると、そのファイルがまだ使用中だと認識されてしまいます。 これは、同じファイルを利用しようとする他のプログラムの働きを阻害します。（個室のトイレをイメージしてください。）\n",
    "\n",
    "close() の呼び出しは重要ですが、忘れがちなものでもあります。 後述するwith文を使うのが安全です。"
   ]
  },
  {
   "cell_type": "markdown",
   "metadata": {},
   "source": [
    "# 行の読み込み\n",
    "ファイルオブジェクトには、readline() というメソッドを適用することができます。 ファイルから新たに1行を読んで文字列として返します。 この「1行」というのは、正確には、ファイルの先頭もしくは改行文字の次の文字から、ファイルの終わりもしくは改行文字までの文字列です。 1行は必ずしも改行文字で終わらないという点に注意して下さい。\n",
    "\n",
    "ファイルの終わりに来たとき、readline() は '' という空文字列を返します。\n",
    "\n",
    "以下のようにして readline() を使ってファイルを行単位で読んでみましょう。\n",
    "\n",
    "ファイルを読み終わると空文字列が返ることを確認してください。"
   ]
  },
  {
   "cell_type": "code",
   "execution_count": 67,
   "metadata": {},
   "outputs": [],
   "source": [
    "f = open('sample.txt', 'r')"
   ]
  },
  {
   "cell_type": "code",
   "execution_count": 68,
   "metadata": {},
   "outputs": [
    {
     "output_type": "execute_result",
     "data": {
      "text/plain": "'Lorem ipsum dolor sit amet, consectetur adipiscing elit, sed do eiusmod tempor incididunt ut labore et dolore magna aliqua. Ut enim ad minim veniam, quis nostrud exercitation ullamco laboris nisi ut aliquip ex ea commodo consequat.\\n'"
     },
     "metadata": {},
     "execution_count": 68
    }
   ],
   "source": [
    "f.readline()"
   ]
  },
  {
   "cell_type": "code",
   "execution_count": 69,
   "metadata": {},
   "outputs": [
    {
     "output_type": "execute_result",
     "data": {
      "text/plain": "'Duis aute irure dolor in reprehenderit in voluptate velit esse cillum dolore eu fugiat nulla pariatur.\\n'"
     },
     "metadata": {},
     "execution_count": 69
    }
   ],
   "source": [
    "f.readline()"
   ]
  },
  {
   "cell_type": "code",
   "execution_count": 70,
   "metadata": {},
   "outputs": [
    {
     "output_type": "execute_result",
     "data": {
      "text/plain": "'Excepteur sint occaecat cupidatat non proident, sunt in culpa qui officia deserunt mollit anim id est laborum.\\n'"
     },
     "metadata": {},
     "execution_count": 70
    }
   ],
   "source": [
    "f.readline()"
   ]
  },
  {
   "cell_type": "code",
   "execution_count": 71,
   "metadata": {},
   "outputs": [
    {
     "output_type": "execute_result",
     "data": {
      "text/plain": "''"
     },
     "metadata": {},
     "execution_count": 71
    }
   ],
   "source": [
    "f.readline()"
   ]
  },
  {
   "cell_type": "code",
   "execution_count": 72,
   "metadata": {},
   "outputs": [],
   "source": [
    "f.close()"
   ]
  },
  {
   "cell_type": "code",
   "execution_count": 73,
   "metadata": {},
   "outputs": [],
   "source": [
    "def last_line(name):\n",
    "    last = ''\n",
    "    with open(name,'r') as f:\n",
    "        while True:\n",
    "            line = f.readline()\n",
    "            if line == '':\n",
    "                return last\n",
    "            last = line"
   ]
  },
  {
   "cell_type": "code",
   "execution_count": 74,
   "metadata": {
    "tags": []
   },
   "outputs": [
    {
     "output_type": "stream",
     "name": "stdout",
     "text": "True\n"
    }
   ],
   "source": [
    "print(last_line('sample.txt')==\"Excepteur sint occaecat cupidatat non proident, sunt in culpa qui officia deserunt mollit anim id est laborum.\\n\")"
   ]
  },
  {
   "cell_type": "code",
   "execution_count": 75,
   "metadata": {},
   "outputs": [
    {
     "output_type": "execute_result",
     "data": {
      "text/plain": "'Lorem ipsum dolor sit amet, consectetur adipiscing elit, sed do eiusmod tempor incididunt ut labore et dolore magna aliqua. Ut enim ad minim veniam, quis nostrud exercitation ullamco laboris nisi ut aliquip ex ea commodo consequat.\\nDuis aute irure dolor in reprehenderit in voluptate velit esse cillum dolore eu fugiat nulla pariatur.\\nExcepteur sint occaecat cupidatat non proident, sunt in culpa qui officia deserunt mollit anim id est laborum.\\n'"
     },
     "metadata": {},
     "execution_count": 75
    }
   ],
   "source": [
    "f = open('sample.txt', 'r')\n",
    "f.read()"
   ]
  },
  {
   "cell_type": "code",
   "execution_count": 76,
   "metadata": {},
   "outputs": [
    {
     "output_type": "execute_result",
     "data": {
      "text/plain": "''"
     },
     "metadata": {},
     "execution_count": 76
    }
   ],
   "source": [
    "f.read()"
   ]
  },
  {
   "cell_type": "code",
   "execution_count": 77,
   "metadata": {},
   "outputs": [],
   "source": [
    "f.close()"
   ]
  },
  {
   "cell_type": "code",
   "execution_count": 78,
   "metadata": {},
   "outputs": [],
   "source": [
    "def  number_of_characters(name):\n",
    "    with open(name,'r') as f:\n",
    "        return len(f.read())"
   ]
  },
  {
   "cell_type": "code",
   "execution_count": 79,
   "metadata": {
    "tags": []
   },
   "outputs": [
    {
     "output_type": "stream",
     "name": "stdout",
     "text": "True\n"
    }
   ],
   "source": [
    "print(number_of_characters('sample.txt') == 446)"
   ]
  },
  {
   "cell_type": "code",
   "execution_count": 80,
   "metadata": {},
   "outputs": [],
   "source": [
    "f = open('test.txt', 'r')"
   ]
  },
  {
   "cell_type": "code",
   "execution_count": 81,
   "metadata": {},
   "outputs": [],
   "source": [
    "f.close()"
   ]
  },
  {
   "cell_type": "code",
   "execution_count": 82,
   "metadata": {
    "tags": []
   },
   "outputs": [
    {
     "output_type": "stream",
     "name": "stdout",
     "text": "Lorem ipsum dolor sit amet, consectetur adipiscing elit, sed do eiusmod tempor incididunt ut labore et dolore magna aliqua. Ut enim ad minim veniam, quis nostrud exercitation ullamco laboris nisi ut aliquip ex ea commodo consequat.\nDuis aute irure dolor in reprehenderit in voluptate velit esse cillum dolore eu fugiat nulla pariatur.\nExcepteur sint occaecat cupidatat non proident, sunt in culpa qui officia deserunt mollit anim id est laborum.\n\n"
    }
   ],
   "source": [
    "with open('sample.txt', 'r') as f:\n",
    "    print(f.read())"
   ]
  },
  {
   "cell_type": "code",
   "execution_count": 83,
   "metadata": {},
   "outputs": [],
   "source": [
    "with open('print-test.txt', 'w') as f:\n",
    "    print('hello\\nworld', file=f)"
   ]
  },
  {
   "cell_type": "code",
   "execution_count": 84,
   "metadata": {},
   "outputs": [],
   "source": [
    "with open('print-test.txt', 'a') as f:\n",
    "    print('hello', 'world\\n', end='', file=f) # 改行文字を加えない"
   ]
  },
  {
   "cell_type": "code",
   "execution_count": 85,
   "metadata": {},
   "outputs": [],
   "source": [
    "with open('print-test.txt', 'a') as f:\n",
    "    print('hello', 'world', sep=', ', file=f) # 'hello, world'が印字される"
   ]
  },
  {
   "cell_type": "code",
   "execution_count": 86,
   "metadata": {},
   "outputs": [],
   "source": [
    "with open('sample.txt') as src, open('sample.txt.bak', 'w') as dst:\n",
    "    dst.write(src.read())"
   ]
  },
  {
   "cell_type": "code",
   "execution_count": 87,
   "metadata": {},
   "outputs": [],
   "source": [
    "def file_upper(infile,outfile):\n",
    "    with open(infile,'r') as src, open(outfile,'w') as dst:\n",
    "        dst.write(src.read().upper())"
   ]
  },
  {
   "cell_type": "code",
   "execution_count": 88,
   "metadata": {
    "tags": []
   },
   "outputs": [
    {
     "output_type": "stream",
     "name": "stdout",
     "text": "True\n"
    }
   ],
   "source": [
    "with open('print-test.txt', 'w') as f:\n",
    "    print('hello', 'world', file=f)\n",
    "file_upper('print-test.txt', 'print-test-upper.txt')\n",
    "with open('print-test-upper.txt', 'r') as f:\n",
    "    print(f.read() == 'HELLO WORLD\\n')"
   ]
  },
  {
   "cell_type": "code",
   "execution_count": 89,
   "metadata": {
    "tags": []
   },
   "outputs": [
    {
     "output_type": "stream",
     "name": "stdout",
     "text": "あいうえお\n"
    },
    {
     "output_type": "error",
     "ename": "UnicodeDecodeError",
     "evalue": "'cp932' codec can't decode byte 0x86 in position 8: illegal multibyte sequence",
     "traceback": [
      "\u001b[1;31m---------------------------------------------------------------------------\u001b[0m",
      "\u001b[1;31mUnicodeDecodeError\u001b[0m                        Traceback (most recent call last)",
      "\u001b[1;32m<ipython-input-89-55d9ddc4ec6f>\u001b[0m in \u001b[0;36m<module>\u001b[1;34m()\u001b[0m\n\u001b[0;32m      5\u001b[0m \u001b[1;31m# Windowsならこちらでエラー\u001b[0m\u001b[1;33m\u001b[0m\u001b[1;33m\u001b[0m\u001b[0m\n\u001b[0;32m      6\u001b[0m \u001b[1;32mwith\u001b[0m \u001b[0mopen\u001b[0m\u001b[1;33m(\u001b[0m\u001b[1;34m'utf-8.txt'\u001b[0m\u001b[1;33m,\u001b[0m \u001b[1;34m'r'\u001b[0m\u001b[1;33m)\u001b[0m \u001b[1;32mas\u001b[0m \u001b[0mf\u001b[0m\u001b[1;33m:\u001b[0m\u001b[1;33m\u001b[0m\u001b[0m\n\u001b[1;32m----> 7\u001b[1;33m     \u001b[0mprint\u001b[0m\u001b[1;33m(\u001b[0m\u001b[0mf\u001b[0m\u001b[1;33m.\u001b[0m\u001b[0mread\u001b[0m\u001b[1;33m(\u001b[0m\u001b[1;33m)\u001b[0m\u001b[1;33m)\u001b[0m\u001b[1;33m\u001b[0m\u001b[0m\n\u001b[0m",
      "\u001b[1;31mUnicodeDecodeError\u001b[0m: 'cp932' codec can't decode byte 0x86 in position 8: illegal multibyte sequence"
     ]
    }
   ],
   "source": [
    "# macOSならこちらでエラー\n",
    "with open('shift_jis.txt', 'r') as f:\n",
    "    print(f.read())\n",
    "\n",
    "# Windowsならこちらでエラー\n",
    "with open('utf-8.txt', 'r') as f:\n",
    "    print(f.read())"
   ]
  },
  {
   "cell_type": "code",
   "execution_count": 90,
   "metadata": {
    "tags": []
   },
   "outputs": [
    {
     "output_type": "stream",
     "name": "stdout",
     "text": "あいうえお\nあいうえお\nかきくけこ\n"
    }
   ],
   "source": [
    "# 文字コードを指定しないとmacOSならこちらでエラー\n",
    "with open('shift_jis.txt', 'r', encoding='shift_jis') as f:\n",
    "    print(f.read())\n",
    "\n",
    "# 文字コードを指定しないとWindowsならこちらでエラー\n",
    "with open('utf-8.txt', 'r', encoding='utf-8') as f:\n",
    "    print(f.read())\n",
    "\n",
    "# 文字コードを指定してファイルに書き込む場合\n",
    "with open('text.txt', 'w', encoding='utf-8') as f:\n",
    "    f.write('かきくけこ')\n",
    "with open('text.txt', 'r', encoding='utf-8') as f:\n",
    "    print(f.read())"
   ]
  },
  {
   "cell_type": "code",
   "execution_count": 91,
   "metadata": {
    "tags": []
   },
   "outputs": [
    {
     "output_type": "stream",
     "name": "stdout",
     "text": "二人の若い紳士が、すつかりイギリスの兵隊のかたちをして、ぴか／＼する鉄砲をかついで、白熊のやうな犬を二疋つれて、だいぶ山奥の、木の葉のかさ／＼したとこを、こんなことを云ひながら、あるいてをりました。\n\n「ぜんたい、こゝらの山は怪しからんね。鳥も獣も一疋も居やがらん。なんでも構はないから、早くタンタアーンと、やつて見たいもんだなあ。」\n\n「鹿の黄いろな横つ腹なんぞに、二三発お見舞まうしたら、ずゐぶん痛快だらうねえ。くる／＼まはつて、それからどたつと倒れるだらうねえ。」\n\n------ 末尾の改行文字を削除すると以下のようになります-------\n二人の若い紳士が、すつかりイギリスの兵隊のかたちをして、ぴか／＼する鉄砲をかついで、白熊のやうな犬を二疋つれて、だいぶ山奥の、木の葉のかさ／＼したとこを、こんなことを云ひながら、あるいてをりました。\n「ぜんたい、こゝらの山は怪しからんね。鳥も獣も一疋も居やがらん。なんでも構はないから、早くタンタアーンと、やつて見たいもんだなあ。」\n「鹿の黄いろな横つ腹なんぞに、二三発お見舞まうしたら、ずゐぶん痛快だらうねえ。くる／＼まはつて、それからどたつと倒れるだらうねえ。」\n"
    }
   ],
   "source": [
    "with open('text/novel.txt', 'r', encoding='utf-8') as f:\n",
    "    while True:\n",
    "        line = f.readline()\n",
    "        if line == '':\n",
    "            break\n",
    "        print(line)\n",
    "\n",
    "print('------ 末尾の改行文字を削除すると以下のようになります-------')\n",
    "with open('text/novel.txt', 'r', encoding='utf-8') as f:\n",
    "    while True:\n",
    "        line = f.readline()\n",
    "        if line == '':\n",
    "            break\n",
    "        print(line.rstrip('\\n'))"
   ]
  },
  {
   "cell_type": "code",
   "execution_count": null,
   "metadata": {},
   "outputs": [],
   "source": []
  }
 ],
 "metadata": {
  "language_info": {
   "codemirror_mode": {
    "name": "ipython",
    "version": 3
   },
   "file_extension": ".py",
   "mimetype": "text/x-python",
   "name": "python",
   "nbconvert_exporter": "python",
   "pygments_lexer": "ipython3",
   "version": "3.6.4-final"
  },
  "orig_nbformat": 2,
  "kernelspec": {
   "name": "python3",
   "display_name": "Python 3"
  }
 },
 "nbformat": 4,
 "nbformat_minor": 2
}