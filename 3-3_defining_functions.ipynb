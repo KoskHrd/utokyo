{
 "cells": [
  {
   "cell_type": "markdown",
   "metadata": {},
   "source": [
    "# 関数の定義\n",
    "関数は処理（手続きの流れ）をまとめた再利用可能なコードです。関数には以下の特徴があります。\n",
    "\n",
    "- 名前を持つ。\n",
    "- 手続きの流れを含む。\n",
    "- 返値（明示的あるいは非明示的に）を返す。\n",
    "\n",
    "len() や sum() などの組み込み関数は関数の例です。\n",
    "\n",
    "まず、関数の定義をしてみましょう。関数を定義するには def を用います"
   ]
  },
  {
   "cell_type": "code",
   "execution_count": 1,
   "metadata": {},
   "outputs": [],
   "source": [
    "#'Hello'を表示する関数greeting\n",
    "def greeting():\n",
    "    print('Hello')"
   ]
  },
  {
   "cell_type": "code",
   "execution_count": 3,
   "metadata": {
    "tags": []
   },
   "outputs": [
    {
     "output_type": "stream",
     "name": "stdout",
     "text": "Hello\n"
    }
   ],
   "source": [
    "greeting()"
   ]
  },
  {
   "cell_type": "code",
   "execution_count": 4,
   "metadata": {},
   "outputs": [],
   "source": [
    "#引数greeting_localに渡された値を表示する関数greeting\n",
    "def greeting(greeting_local):\n",
    "    print(greeting_local)"
   ]
  },
  {
   "cell_type": "code",
   "execution_count": 5,
   "metadata": {
    "tags": []
   },
   "outputs": [
    {
     "output_type": "stream",
     "name": "stdout",
     "text": "Hello\n"
    }
   ],
   "source": [
    "#関数greetingに文字列'Hello'を渡して呼び出し\n",
    "greeting('Hello')"
   ]
  },
  {
   "cell_type": "code",
   "execution_count": 6,
   "metadata": {},
   "outputs": [
    {
     "output_type": "execute_result",
     "data": {
      "text/plain": "'Hello'"
     },
     "metadata": {},
     "execution_count": 6
    }
   ],
   "source": [
    "#引数greeting_localに渡された値を返す関数greeting\n",
    "def greeting(greeting_local):\n",
    "    return greeting_local\n",
    "\n",
    "#関数greetingに文字列'Hello'を渡して呼び出し\n",
    "greeting('Hello')"
   ]
  },
  {
   "cell_type": "code",
   "execution_count": 7,
   "metadata": {},
   "outputs": [
    {
     "output_type": "execute_result",
     "data": {
      "text/plain": "5.0"
     },
     "metadata": {},
     "execution_count": 7
    }
   ],
   "source": [
    "#入力の平均を計算して返す関数average\n",
    "def average(nums):\n",
    "    #組み込み関数のsum()とlen()を利用\n",
    "    return sum(nums)/len(nums)\n",
    "\n",
    "#関数averageに数字のリストを渡して呼び出し\n",
    "average([1,3,5,7,9])"
   ]
  },
  {
   "cell_type": "code",
   "execution_count": 8,
   "metadata": {},
   "outputs": [
    {
     "output_type": "execute_result",
     "data": {
      "text/plain": "'Hello'"
     },
     "metadata": {},
     "execution_count": 8
    }
   ],
   "source": [
    "#関数greetingの返値を変数greetに代入\n",
    "greet = greeting('Hello')\n",
    "greet"
   ]
  },
  {
   "cell_type": "code",
   "execution_count": 9,
   "metadata": {
    "tags": []
   },
   "outputs": [
    {
     "output_type": "stream",
     "name": "stdout",
     "text": "Hello, Bonjour, Guten Tag\n"
    }
   ],
   "source": [
    "#3つの引数それぞれに渡された値を表示する関数greeting\n",
    "def greeting(en, fr, de):\n",
    "    print(en + ', ' + fr + ', ' + de)\n",
    "\n",
    "#関数greetingに3つの引数を渡して呼び出し\n",
    "greeting('Hello', 'Bonjour', 'Guten Tag')"
   ]
  },
  {
   "cell_type": "code",
   "execution_count": 10,
   "metadata": {
    "tags": []
   },
   "outputs": [
    {
     "output_type": "stream",
     "name": "stdout",
     "text": "HelloHelloHello,World\n"
    }
   ],
   "source": [
    "#文字列と数値を引数として受け取る関数greeting\n",
    "def greeting(en, number, name):\n",
    "    #文字列に数を掛け算すると、文字列を数の回だけ繰り返すことを指定します\n",
    "    print(en*number+','+name)\n",
    "\n",
    "#関数greetingに文字列と数値を引数として渡して呼び出し\n",
    "greeting('Hello',3, 'World')"
   ]
  },
  {
   "cell_type": "code",
   "execution_count": 11,
   "metadata": {
    "tags": []
   },
   "outputs": [
    {
     "output_type": "stream",
     "name": "stdout",
     "text": "Hello\n"
    },
    {
     "output_type": "error",
     "ename": "NameError",
     "evalue": "name 'greeting_local' is not defined",
     "traceback": [
      "\u001b[1;31m---------------------------------------------------------------------------\u001b[0m",
      "\u001b[1;31mNameError\u001b[0m                                 Traceback (most recent call last)",
      "\u001b[1;32m<ipython-input-11-32f20f306d5c>\u001b[0m in \u001b[0;36m<module>\u001b[1;34m()\u001b[0m\n\u001b[0;32m      6\u001b[0m \u001b[1;33m\u001b[0m\u001b[0m\n\u001b[0;32m      7\u001b[0m \u001b[1;31m#ローカル変数（関数greetingの引数）greeting_localを参照\u001b[0m\u001b[1;33m\u001b[0m\u001b[1;33m\u001b[0m\u001b[0m\n\u001b[1;32m----> 8\u001b[1;33m \u001b[0mgreeting_local\u001b[0m\u001b[1;33m\u001b[0m\u001b[0m\n\u001b[0m",
      "\u001b[1;31mNameError\u001b[0m: name 'greeting_local' is not defined"
     ]
    }
   ],
   "source": [
    "#引数greeting_localに渡された値を表示する関数greeting\n",
    "def greeting(greeting_local):\n",
    "    print(greeting_local)\n",
    "\n",
    "greeting('Hello')\n",
    "\n",
    "#ローカル変数（関数greetingの引数）greeting_localを参照\n",
    "greeting_local"
   ]
  },
  {
   "cell_type": "code",
   "execution_count": 12,
   "metadata": {
    "tags": []
   },
   "outputs": [
    {
     "output_type": "stream",
     "name": "stdout",
     "text": "Hello\n"
    },
    {
     "output_type": "execute_result",
     "data": {
      "text/plain": "'Hello'"
     },
     "metadata": {},
     "execution_count": 12
    }
   ],
   "source": [
    "#グローバル変数greeting_globalの定義\n",
    "greeting_global = 'Hello'\n",
    "\n",
    "#グローバル変数greeting_globalの値を表示する関数greeting\n",
    "def greeting():\n",
    "    print(greeting_global)\n",
    "\n",
    "greeting()\n",
    "\n",
    "#グローバル変数greeting_globalを参照\n",
    "greeting_global"
   ]
  },
  {
   "cell_type": "code",
   "execution_count": 13,
   "metadata": {
    "tags": []
   },
   "outputs": [
    {
     "output_type": "stream",
     "name": "stdout",
     "text": "Bonjour\n"
    },
    {
     "output_type": "execute_result",
     "data": {
      "text/plain": "'Hello'"
     },
     "metadata": {},
     "execution_count": 13
    }
   ],
   "source": [
    "#グローバル変数greeting_globalと同じ名前の変数に値を代入する関数greeting\n",
    "def greeting():\n",
    "    greeting_global = 'Bonjour'\n",
    "    print(greeting_global)\n",
    "\n",
    "greeting()\n",
    "\n",
    "#変数greeting_globalを参照\n",
    "greeting_global"
   ]
  },
  {
   "cell_type": "code",
   "execution_count": 14,
   "metadata": {},
   "outputs": [
    {
     "output_type": "error",
     "ename": "UnboundLocalError",
     "evalue": "local variable 'greeting_global' referenced before assignment",
     "traceback": [
      "\u001b[1;31m---------------------------------------------------------------------------\u001b[0m",
      "\u001b[1;31mUnboundLocalError\u001b[0m                         Traceback (most recent call last)",
      "\u001b[1;32m<ipython-input-14-2e610cbc3e32>\u001b[0m in \u001b[0;36m<module>\u001b[1;34m()\u001b[0m\n\u001b[0;32m      4\u001b[0m     \u001b[0mprint\u001b[0m\u001b[1;33m(\u001b[0m\u001b[0mgreeting_global\u001b[0m\u001b[1;33m)\u001b[0m\u001b[1;33m\u001b[0m\u001b[0m\n\u001b[0;32m      5\u001b[0m \u001b[1;33m\u001b[0m\u001b[0m\n\u001b[1;32m----> 6\u001b[1;33m \u001b[0mgreeting\u001b[0m\u001b[1;33m(\u001b[0m\u001b[1;33m)\u001b[0m\u001b[1;33m\u001b[0m\u001b[0m\n\u001b[0m",
      "\u001b[1;32m<ipython-input-14-2e610cbc3e32>\u001b[0m in \u001b[0;36mgreeting\u001b[1;34m()\u001b[0m\n\u001b[0;32m      1\u001b[0m \u001b[1;32mdef\u001b[0m \u001b[0mgreeting\u001b[0m\u001b[1;33m(\u001b[0m\u001b[1;33m)\u001b[0m\u001b[1;33m:\u001b[0m\u001b[1;33m\u001b[0m\u001b[0m\n\u001b[1;32m----> 2\u001b[1;33m     \u001b[0mprint\u001b[0m\u001b[1;33m(\u001b[0m\u001b[0mgreeting_global\u001b[0m\u001b[1;33m)\u001b[0m \u001b[1;31m# 最初の参照\u001b[0m\u001b[1;33m\u001b[0m\u001b[0m\n\u001b[0m\u001b[0;32m      3\u001b[0m     \u001b[0mgreeting_global\u001b[0m \u001b[1;33m=\u001b[0m \u001b[1;34m'Bonjour'\u001b[0m \u001b[1;31m# ローカル変数の定義\u001b[0m\u001b[1;33m\u001b[0m\u001b[0m\n\u001b[0;32m      4\u001b[0m     \u001b[0mprint\u001b[0m\u001b[1;33m(\u001b[0m\u001b[0mgreeting_global\u001b[0m\u001b[1;33m)\u001b[0m\u001b[1;33m\u001b[0m\u001b[0m\n\u001b[0;32m      5\u001b[0m \u001b[1;33m\u001b[0m\u001b[0m\n",
      "\u001b[1;31mUnboundLocalError\u001b[0m: local variable 'greeting_global' referenced before assignment"
     ]
    }
   ],
   "source": [
    "def greeting():\n",
    "    print(greeting_global) # 最初の参照\n",
    "    greeting_global = 'Bonjour' # ローカル変数の定義\n",
    "    print(greeting_global)\n",
    "\n",
    "greeting()"
   ]
  },
  {
   "cell_type": "code",
   "execution_count": 15,
   "metadata": {
    "tags": []
   },
   "outputs": [
    {
     "output_type": "stream",
     "name": "stdout",
     "text": "Bonjour\n"
    },
    {
     "output_type": "execute_result",
     "data": {
      "text/plain": "'Bonjour'"
     },
     "metadata": {},
     "execution_count": 15
    }
   ],
   "source": [
    "#グローバル変数greeting_globalに値を代入する関数greeting\n",
    "def greeting():\n",
    "    global greeting_global\n",
    "    greeting_global = 'Bonjour'\n",
    "    print(greeting_global)\n",
    "\n",
    "greeting()\n",
    "\n",
    "##変数greeting_globalを参照\n",
    "greeting_global"
   ]
  },
  {
   "cell_type": "code",
   "execution_count": 16,
   "metadata": {
    "tags": []
   },
   "outputs": [
    {
     "output_type": "stream",
     "name": "stdout",
     "text": "HelloHello,Japan\n"
    }
   ],
   "source": [
    "#文字列と数値を引数として受け取る関数greeting\n",
    "def greeting(en, number, name):\n",
    "    print(en*number+','+name)\n",
    "\n",
    "#関数greetingに引数の変数名とその値の組みを渡して呼び出し\n",
    "greeting(en='Hello', name='Japan', number=2)"
   ]
  },
  {
   "cell_type": "code",
   "execution_count": 18,
   "metadata": {
    "tags": []
   },
   "outputs": [
    {
     "output_type": "stream",
     "name": "stdout",
     "text": "HelloHello,Japan\n"
    }
   ],
   "source": [
    "#位置引数とキーワード引数を組み合わせた関数greetingの呼び出し\n",
    "greeting('Hello', name='Japan', number=2)"
   ]
  },
  {
   "cell_type": "code",
   "execution_count": 19,
   "metadata": {
    "tags": []
   },
   "outputs": [
    {
     "output_type": "stream",
     "name": "stdout",
     "text": "Hello, World\n"
    }
   ],
   "source": [
    "#引数の初期値（引数の変数enに対する'Hello'）を持つ関数greeting\n",
    "def greeting(name, en='Hello'):\n",
    "    print(en+', '+name)\n",
    "\n",
    "#引数の初期値を持つ関数greetingの呼び出し\n",
    "greeting('World')"
   ]
  },
  {
   "cell_type": "code",
   "execution_count": 20,
   "metadata": {
    "tags": []
   },
   "outputs": [
    {
     "output_type": "stream",
     "name": "stdout",
     "text": "('Hello', 'Bonjour', 'Guten Tag')\n"
    }
   ],
   "source": [
    "#可変長の引数を受け取り、それらを表示する関数greeting\n",
    "def greeting(*args):\n",
    "    print(args)\n",
    "\n",
    "#可変長の引数を受け取る関数greetingに複数の引数を渡して呼び出し\n",
    "greeting('Hello','Bonjour','Guten Tag')"
   ]
  },
  {
   "cell_type": "code",
   "execution_count": 22,
   "metadata": {
    "tags": []
   },
   "outputs": [
    {
     "output_type": "stream",
     "name": "stdout",
     "text": "('Hello', 'Bonjour', 'Guten Tag')\n"
    }
   ],
   "source": [
    "#リスト型オブジェクトgreeting_listを関数greetingに渡して呼び出し\n",
    "greeting_list = ['Hello','Bonjour','Guten Tag']\n",
    "greeting(*greeting_list)"
   ]
  },
  {
   "cell_type": "code",
   "execution_count": 23,
   "metadata": {
    "tags": []
   },
   "outputs": [
    {
     "output_type": "stream",
     "name": "stdout",
     "text": "{'en': 'Hello', 'fr': 'Bonjour', 'de': 'Guten Tag'}\n"
    }
   ],
   "source": [
    "#可変長のキーワード引数を受け取り、それらを表示する関数greeting\n",
    "def greeting(**kwargs):\n",
    "    print(kwargs)\n",
    "\n",
    "#可変長のキーワード引数を受け取る関数greetingに複数の引数を渡して呼び出し\n",
    "greeting(en='Hello', fr='Bonjour', de='Guten Tag')"
   ]
  },
  {
   "cell_type": "code",
   "execution_count": 24,
   "metadata": {
    "tags": []
   },
   "outputs": [
    {
     "output_type": "stream",
     "name": "stdout",
     "text": "{'en': 'Hello', 'fr': 'Bonjour', 'de': 'Guten Tag'}\n"
    }
   ],
   "source": [
    "#辞書型オブジェクトgreeting_dictを関数greetingに渡して呼び出し\n",
    "greeting_dict = {'en': 'Hello', 'fr': 'Bonjour', 'de': 'Guten Tag'}\n",
    "greeting(**greeting_dict)"
   ]
  },
  {
   "cell_type": "code",
   "execution_count": 25,
   "metadata": {
    "tags": []
   },
   "outputs": [
    {
     "output_type": "stream",
     "name": "stdout",
     "text": "Hi\nHello\n('Bonjour',)\n{'de': 'Guten Tag'}\n"
    }
   ],
   "source": [
    "#位置引数、初期値を持つ引数、可変長引数、辞書型の可変長引数\n",
    "#それぞれを引数として受け取り、それらを表示する関数greeting\n",
    "def greeting(greet, en='Hello', *args, **kwargs):\n",
    "    print(greet)\n",
    "    print(en)\n",
    "    print(args)\n",
    "    print(kwargs)\n",
    "\n",
    "#可変長引数へ渡すリスト\n",
    "greeting_list = ['Bonjour']\n",
    "\n",
    "#辞書型の可変長引数へ渡す辞書\n",
    "greeting_dict = {'de': 'Guten Tag'}\n",
    "\n",
    "#関数greetingに引数を渡して呼び出し\n",
    "greeting('Hi', 'Hello', *greeting_list, **greeting_dict)"
   ]
  },
  {
   "cell_type": "code",
   "execution_count": 26,
   "metadata": {},
   "outputs": [
    {
     "output_type": "execute_result",
     "data": {
      "text/plain": "str"
     },
     "metadata": {},
     "execution_count": 26
    }
   ],
   "source": [
    "#グローバル変数greeting_globalの定義と参照\n",
    "greeting_global = 'Hello'\n",
    "type(greeting_global)"
   ]
  },
  {
   "cell_type": "code",
   "execution_count": 27,
   "metadata": {},
   "outputs": [
    {
     "output_type": "execute_result",
     "data": {
      "text/plain": "function"
     },
     "metadata": {},
     "execution_count": 27
    }
   ],
   "source": [
    "#グローバル変数greeting_globalと同名の関数の定義\n",
    "#変数greeting_globalは関数を参照する\n",
    "def greeting_global():\n",
    "    print('This is the greeting_global function')\n",
    "\n",
    "type(greeting_global)"
   ]
  },
  {
   "cell_type": "code",
   "execution_count": null,
   "metadata": {},
   "outputs": [],
   "source": []
  }
 ],
 "metadata": {
  "language_info": {
   "codemirror_mode": {
    "name": "ipython",
    "version": 3
   },
   "file_extension": ".py",
   "mimetype": "text/x-python",
   "name": "python",
   "nbconvert_exporter": "python",
   "pygments_lexer": "ipython3",
   "version": "3.6.4-final"
  },
  "orig_nbformat": 2,
  "kernelspec": {
   "name": "python3",
   "display_name": "Python 3"
  }
 },
 "nbformat": 4,
 "nbformat_minor": 2
}