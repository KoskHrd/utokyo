{
 "cells": [
  {
   "cell_type": "markdown",
   "metadata": {},
   "source": [
    "# 4-3. コンピュータにおけるファイルやディレクトリの配置\n",
    "木構造のデータ形式について説明します。 この内容はPython言語に限らず、WindowsやMac、Linuxなどの一般的なOSにおいて共通する概念です。\n",
    "\n",
    "みなさん、Windowsではエクスプローラ、MacではFinderを使ってファイルを階層的に保存していますよね。\n",
    "\n",
    "下の例では、Windowsで ドキュメント（Documents) という名前のフォルダの中に Python入門 というフォルダを作り、 その下にこの教材を置いた時の、エクスプローラの様子を表しています。\n",
    "\n",
    "![Explore](./fig/Explore.png)\n",
    "\n",
    "これは Jupyter Notebook では以下のように見えます。\n",
    "\n",
    "![jupyterTree](./fig/jupyterTree.png)\n",
    "\n",
    "このようなデータ形式は以下のような図で表すこともできます。 まるで木を逆さにしたような形に見えますね。 ですからこのようなデータの形式を「木構造」と呼びます。\n",
    "\n",
    "また、一番根っこにあたるデータを「ルート（根）」、先端にあたるデータを「リーフ（葉）」、その間にあるデータを「ノード（節）」と呼びます。\n",
    "\n",
    "![jupyterTreeIllust](./fig/jupyterTreeIllust.png)\n",
    "\n",
    "データの保存においては、ファイルはリーフ（葉）に相当し、フォルダはノード（節）に相当します。 ルートはハードディスクやUSBメモリなど記録媒体自体に対応することが多いです。 ハードディスクに入っているファイルと、USBメモリに入っているファイルは、それぞれ違う木に属するデータということです。"
   ]
  },
  {
   "cell_type": "code",
   "execution_count": null,
   "metadata": {},
   "outputs": [],
   "source": []
  }
 ],
 "metadata": {
  "language_info": {
   "codemirror_mode": {
    "name": "ipython",
    "version": 3
   },
   "file_extension": ".py",
   "mimetype": "text/x-python",
   "name": "python",
   "nbconvert_exporter": "python",
   "pygments_lexer": "ipython3",
   "version": "3.6.4-final"
  },
  "orig_nbformat": 2,
  "kernelspec": {
   "name": "python3",
   "display_name": "Python 3"
  }
 },
 "nbformat": 4,
 "nbformat_minor": 2
}