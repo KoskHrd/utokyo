{
 "metadata": {
  "language_info": {
   "codemirror_mode": {
    "name": "ipython",
    "version": 3
   },
   "file_extension": ".py",
   "mimetype": "text/x-python",
   "name": "python",
   "nbconvert_exporter": "python",
   "pygments_lexer": "ipython3",
   "version": 3
  },
  "orig_nbformat": 2,
  "kernelspec": {
   "name": "python_defaultSpec_1595824581104",
   "display_name": "Python 3.7.6 64-bit ('base': conda)"
  }
 },
 "nbformat": 4,
 "nbformat_minor": 2,
 "cells": [
  {
   "cell_type": "code",
   "execution_count": 1,
   "metadata": {},
   "outputs": [
    {
     "output_type": "execute_result",
     "data": {
      "text/plain": "{'apple': 3, 'pen': 5}"
     },
     "metadata": {},
     "execution_count": 1
    }
   ],
   "source": [
    "ppap = {'apple' : 3, 'pen' : 5}\n",
    "ppap"
   ]
  },
  {
   "cell_type": "code",
   "execution_count": 3,
   "metadata": {},
   "outputs": [
    {
     "output_type": "execute_result",
     "data": {
      "text/plain": "dict"
     },
     "metadata": {},
     "execution_count": 3
    }
   ],
   "source": [
    "type(ppap)"
   ]
  },
  {
   "cell_type": "code",
   "execution_count": 4,
   "metadata": {},
   "outputs": [
    {
     "output_type": "execute_result",
     "data": {
      "text/plain": "3"
     },
     "metadata": {},
     "execution_count": 4
    }
   ],
   "source": [
    "ppap = {'apple' : 3, 'pen' : 5}\n",
    "ppap['apple']"
   ]
  },
  {
   "cell_type": "code",
   "execution_count": 5,
   "metadata": {},
   "outputs": [
    {
     "output_type": "error",
     "ename": "KeyError",
     "evalue": "'orange'",
     "traceback": [
      "\u001b[1;31m---------------------------------------------------------------------------\u001b[0m",
      "\u001b[1;31mKeyError\u001b[0m                                  Traceback (most recent call last)",
      "\u001b[1;32m<ipython-input-5-f7d700f1de78>\u001b[0m in \u001b[0;36m<module>\u001b[1;34m\u001b[0m\n\u001b[1;32m----> 1\u001b[1;33m \u001b[0mppap\u001b[0m\u001b[1;33m[\u001b[0m\u001b[1;34m'orange'\u001b[0m\u001b[1;33m]\u001b[0m\u001b[1;33m\u001b[0m\u001b[1;33m\u001b[0m\u001b[0m\n\u001b[0m",
      "\u001b[1;31mKeyError\u001b[0m: 'orange'"
     ]
    }
   ],
   "source": [
    "ppap['orange']"
   ]
  },
  {
   "cell_type": "code",
   "execution_count": 6,
   "metadata": {},
   "outputs": [
    {
     "output_type": "execute_result",
     "data": {
      "text/plain": "{'apple': 10, 'pen': 5, 'pinapple': 7}"
     },
     "metadata": {},
     "execution_count": 6
    }
   ],
   "source": [
    "ppap = {'apple' : 3, 'pen' : 5}\n",
    "ppap['apple'] = 10\n",
    "ppap['pinapple'] = 7\n",
    "ppap"
   ]
  },
  {
   "cell_type": "code",
   "execution_count": 7,
   "metadata": {},
   "outputs": [
    {
     "output_type": "error",
     "ename": "KeyError",
     "evalue": "1",
     "traceback": [
      "\u001b[1;31m---------------------------------------------------------------------------\u001b[0m",
      "\u001b[1;31mKeyError\u001b[0m                                  Traceback (most recent call last)",
      "\u001b[1;32m<ipython-input-7-a560878f1de9>\u001b[0m in \u001b[0;36m<module>\u001b[1;34m\u001b[0m\n\u001b[1;32m----> 1\u001b[1;33m \u001b[0mppap\u001b[0m\u001b[1;33m[\u001b[0m\u001b[1;36m1\u001b[0m\u001b[1;33m]\u001b[0m\u001b[1;33m\u001b[0m\u001b[1;33m\u001b[0m\u001b[0m\n\u001b[0m",
      "\u001b[1;31mKeyError\u001b[0m: 1"
     ]
    }
   ],
   "source": [
    "ppap[1]"
   ]
  },
  {
   "cell_type": "code",
   "execution_count": 8,
   "metadata": {},
   "outputs": [
    {
     "output_type": "execute_result",
     "data": {
      "text/plain": "True"
     },
     "metadata": {},
     "execution_count": 8
    }
   ],
   "source": [
    "ppap = {'apple': 3, 'pen': 5}\n",
    "'apple' in ppap"
   ]
  },
  {
   "cell_type": "code",
   "execution_count": 9,
   "metadata": {},
   "outputs": [
    {
     "output_type": "execute_result",
     "data": {
      "text/plain": "False"
     },
     "metadata": {},
     "execution_count": 9
    }
   ],
   "source": [
    "'banana' in ppap"
   ]
  },
  {
   "cell_type": "code",
   "execution_count": 10,
   "metadata": {},
   "outputs": [
    {
     "output_type": "execute_result",
     "data": {
      "text/plain": "2"
     },
     "metadata": {},
     "execution_count": 10
    }
   ],
   "source": [
    "ppap = {'apple': 3, 'pen': 5}\n",
    "len(ppap)"
   ]
  },
  {
   "cell_type": "code",
   "execution_count": 11,
   "metadata": {},
   "outputs": [
    {
     "output_type": "execute_result",
     "data": {
      "text/plain": "{'apple': 3}"
     },
     "metadata": {},
     "execution_count": 11
    }
   ],
   "source": [
    "ppap = {'apple' : 3, 'pen' : 5}\n",
    "del ppap['pen']\n",
    "ppap"
   ]
  },
  {
   "cell_type": "code",
   "execution_count": 12,
   "metadata": {},
   "outputs": [
    {
     "output_type": "execute_result",
     "data": {
      "text/plain": "{}"
     },
     "metadata": {},
     "execution_count": 12
    }
   ],
   "source": [
    "empty_d = {}\n",
    "empty_d"
   ]
  },
  {
   "cell_type": "code",
   "execution_count": 13,
   "metadata": {},
   "outputs": [],
   "source": [
    "def reverse_lookup(list1):\n",
    "    dict1 = {}\n",
    "    for value in list1:\n",
    "        dict1[value] = list1.index(value)\n",
    "    return dict1"
   ]
  },
  {
   "cell_type": "code",
   "execution_count": 14,
   "metadata": {
    "tags": []
   },
   "outputs": [
    {
     "output_type": "stream",
     "name": "stdout",
     "text": "True\n"
    }
   ],
   "source": [
    "print(reverse_lookup(['apple', 'pen', 'orange']) == {'apple': 0, 'orange': 2, 'pen': 1})"
   ]
  },
  {
   "cell_type": "code",
   "execution_count": 15,
   "metadata": {
    "tags": []
   },
   "outputs": [
    {
     "output_type": "stream",
     "name": "stdout",
     "text": "キーappleに対応する値 =  3\nキーorangeに対応する値 =  None\n"
    },
    {
     "output_type": "error",
     "ename": "KeyError",
     "evalue": "'orange'",
     "traceback": [
      "\u001b[1;31m---------------------------------------------------------------------------\u001b[0m",
      "\u001b[1;31mKeyError\u001b[0m                                  Traceback (most recent call last)",
      "\u001b[1;32m<ipython-input-15-a70752670fa0>\u001b[0m in \u001b[0;36m<module>\u001b[1;34m\u001b[0m\n\u001b[0;32m      2\u001b[0m \u001b[0mprint\u001b[0m\u001b[1;33m(\u001b[0m\u001b[1;34m'キーappleに対応する値 = '\u001b[0m\u001b[1;33m,\u001b[0m \u001b[0mppap\u001b[0m\u001b[1;33m.\u001b[0m\u001b[0mget\u001b[0m\u001b[1;33m(\u001b[0m\u001b[1;34m'apple'\u001b[0m\u001b[1;33m)\u001b[0m\u001b[1;33m)\u001b[0m\u001b[1;33m\u001b[0m\u001b[1;33m\u001b[0m\u001b[0m\n\u001b[0;32m      3\u001b[0m \u001b[0mprint\u001b[0m\u001b[1;33m(\u001b[0m\u001b[1;34m'キーorangeに対応する値 = '\u001b[0m\u001b[1;33m,\u001b[0m \u001b[0mppap\u001b[0m\u001b[1;33m.\u001b[0m\u001b[0mget\u001b[0m\u001b[1;33m(\u001b[0m\u001b[1;34m'orange'\u001b[0m\u001b[1;33m)\u001b[0m\u001b[1;33m)\u001b[0m\u001b[1;33m\u001b[0m\u001b[1;33m\u001b[0m\u001b[0m\n\u001b[1;32m----> 4\u001b[1;33m \u001b[0mprint\u001b[0m\u001b[1;33m(\u001b[0m\u001b[1;34m'キーorangeに対応する値（エラー） = '\u001b[0m\u001b[1;33m,\u001b[0m \u001b[0mppap\u001b[0m\u001b[1;33m[\u001b[0m\u001b[1;34m'orange'\u001b[0m\u001b[1;33m]\u001b[0m\u001b[1;33m)\u001b[0m\u001b[1;33m\u001b[0m\u001b[1;33m\u001b[0m\u001b[0m\n\u001b[0m",
      "\u001b[1;31mKeyError\u001b[0m: 'orange'"
     ]
    }
   ],
   "source": [
    "ppap = {'apple' : 3, 'pen' : 5}\n",
    "print('キーappleに対応する値 = ', ppap.get('apple'))\n",
    "print('キーorangeに対応する値 = ', ppap.get('orange'))\n",
    "print('キーorangeに対応する値（エラー） = ', ppap['orange'])"
   ]
  },
  {
   "cell_type": "code",
   "execution_count": 16,
   "metadata": {
    "tags": []
   },
   "outputs": [
    {
     "output_type": "stream",
     "name": "stdout",
     "text": "キーappleに対応する値 =  3\nキーorangeに対応する値 =  -1\n"
    }
   ],
   "source": [
    "ppap = {'apple' : 3, 'pen' : 5}\n",
    "print('キーappleに対応する値 = ', ppap.get('apple', -1))\n",
    "print('キーorangeに対応する値 = ', ppap.get('orange', -1))"
   ]
  },
  {
   "cell_type": "code",
   "execution_count": 17,
   "metadata": {
    "tags": []
   },
   "outputs": [
    {
     "output_type": "stream",
     "name": "stdout",
     "text": "キーappleに対応する値 =  3\nsetdefault(\"apple\", 7)を実行後の辞書 =  {'apple': 3, 'pen': 5}\nキーorangeに対応する値 =  7\nsetdefault(\"orange\", 7)を実行後の辞書 =  {'apple': 3, 'pen': 5, 'orange': 7}\n"
    }
   ],
   "source": [
    "ppap = {'apple' : 3, 'pen' : 5}\n",
    "print('キーappleに対応する値 = ', ppap.setdefault('apple', 7))\n",
    "print('setdefault(\"apple\", 7)を実行後の辞書 = ', ppap)\n",
    "print('キーorangeに対応する値 = ', ppap.setdefault('orange', 7))\n",
    "print('setdefault(\"orange\", 7)を実行後の辞書 = ', ppap)"
   ]
  },
  {
   "cell_type": "code",
   "execution_count": 19,
   "metadata": {
    "tags": []
   },
   "outputs": [
    {
     "output_type": "stream",
     "name": "stdout",
     "text": "キーappleに対応する値 =  3\nキーorangeに対応する値 =  7\n"
    }
   ],
   "source": [
    "ppap = {'apple' : 3, 'pen' : 5}\n",
    "if 'apple' not in ppap:\n",
    "    ppap['apple'] = 7\n",
    "print('キーappleに対応する値 = ', ppap['apple'])\n",
    "if 'orange' not in ppap:\n",
    "    ppap['orange'] = 7\n",
    "print('キーorangeに対応する値 = ', ppap['orange'])"
   ]
  },
  {
   "cell_type": "code",
   "execution_count": 20,
   "metadata": {
    "tags": []
   },
   "outputs": [
    {
     "output_type": "stream",
     "name": "stdout",
     "text": "5\n{'apple': 3}\n"
    }
   ],
   "source": [
    "ppap = {'apple' : 3, 'pen' : 5}\n",
    "print(ppap.pop('pen'))\n",
    "print(ppap)"
   ]
  },
  {
   "cell_type": "code",
   "execution_count": 21,
   "metadata": {},
   "outputs": [
    {
     "output_type": "execute_result",
     "data": {
      "text/plain": "{}"
     },
     "metadata": {},
     "execution_count": 21
    }
   ],
   "source": [
    "ppap = {'apple' : 3, 'pen' : 5}\n",
    "ppap.clear()\n",
    "ppap"
   ]
  },
  {
   "cell_type": "code",
   "execution_count": 22,
   "metadata": {},
   "outputs": [
    {
     "output_type": "execute_result",
     "data": {
      "text/plain": "['apple', 'pen']"
     },
     "metadata": {},
     "execution_count": 22
    }
   ],
   "source": [
    "ppap = {'apple' : 3, 'pen' : 5}\n",
    "list(ppap.keys())"
   ]
  },
  {
   "cell_type": "code",
   "execution_count": 23,
   "metadata": {},
   "outputs": [
    {
     "output_type": "execute_result",
     "data": {
      "text/plain": "[3, 5]"
     },
     "metadata": {},
     "execution_count": 23
    }
   ],
   "source": [
    "list(ppap.values())"
   ]
  },
  {
   "cell_type": "markdown",
   "metadata": {},
   "source": [
    "> dictionary{keys : values}"
   ]
  },
  {
   "cell_type": "code",
   "execution_count": 24,
   "metadata": {},
   "outputs": [
    {
     "output_type": "execute_result",
     "data": {
      "text/plain": "[('apple', 3), ('pen', 5)]"
     },
     "metadata": {},
     "execution_count": 24
    }
   ],
   "source": [
    "list(ppap.items())"
   ]
  },
  {
   "cell_type": "code",
   "execution_count": 25,
   "metadata": {
    "tags": []
   },
   "outputs": [
    {
     "output_type": "stream",
     "name": "stdout",
     "text": "{'apple': 3, 'pen': 5, 'orange': 7, 'banana': 9}\n{'apple': 3, 'pen': 5, 'orange': 7}\n"
    }
   ],
   "source": [
    "ppap = {'apple': 3, 'pen': 5, 'orange': 7}\n",
    "ppap2 = ppap.copy()\n",
    "ppap['banana'] = 9\n",
    "print(ppap)\n",
    "print(ppap2)"
   ]
  },
  {
   "cell_type": "code",
   "execution_count": 26,
   "metadata": {
    "tags": []
   },
   "outputs": [
    {
     "output_type": "stream",
     "name": "stdout",
     "text": "['apple', 'pen', 'orange']\n[3, 5, 7]\n[('apple', 3), ('pen', 5), ('orange', 7)]\n['apple', 'pen', 'orange', 'kiwi']\n[3, 5, 7, 9]\n[('apple', 3), ('pen', 5), ('orange', 7), ('kiwi', 9)]\n"
    }
   ],
   "source": [
    "ppap = {'apple': 3, 'pen': 5, 'orange': 7}\n",
    "ks = ppap.keys()\n",
    "vs = ppap.values()\n",
    "itms = ppap.items()\n",
    "print(list(ks))\n",
    "print(list(vs))\n",
    "print(list(itms))\n",
    "ppap['kiwi'] = 9\n",
    "print(list(ks))\n",
    "print(list(vs))\n",
    "print(list(itms))"
   ]
  },
  {
   "cell_type": "code",
   "execution_count": 27,
   "metadata": {
    "tags": []
   },
   "outputs": [
    {
     "output_type": "stream",
     "name": "stdout",
     "text": "[10, 20, 40]\n20\n"
    }
   ],
   "source": [
    "numbers = {'dozens': [10, 20, 40], 'hundreds': [100, 101, 120, 140]}\n",
    "print(numbers['dozens'])\n",
    "print(numbers['dozens'][1])"
   ]
  },
  {
   "cell_type": "code",
   "execution_count": 29,
   "metadata": {
    "tags": []
   },
   "outputs": [
    {
     "output_type": "stream",
     "name": "stdout",
     "text": "{'cat': 3, 'dog': 3, 'elephant': 8}\n3\n"
    }
   ],
   "source": [
    "ppap = {'apple': 3, 'pen': 5}\n",
    "pets = {'cat': 3, 'dog': 3, 'elephant': 8}\n",
    "ld = [ppap, pets]\n",
    "print(ld[1])\n",
    "print(ld[1]['dog'])"
   ]
  },
  {
   "cell_type": "markdown",
   "metadata": {},
   "source": [
    "# 練習\n",
    "辞書 dic1 と文字列 str1 が引数として与えられたとき、 以下のように dic1 を変更する関数 handle_collision を作成してください。 ただし、dic1 のキーは整数、キーに対応する値は文字列を要素とするリストとします。\n",
    "\n",
    "1. dic1 に str1 の長さ n がキーとして登録されていない場合、str1 のみを要素とするリスト ls を作成し、 dic1 にキー n、n に対応する値 ls を登録します。\n",
    "1. dic1 に str1 の長さ n がキーとして登録されている場合、そのキーに対応する値（リスト）に str1 を追加します。\n",
    "\n",
    "以下のセルの ... のところを書き換えて handle_collision(dic1, str1) を作成してください。"
   ]
  },
  {
   "cell_type": "code",
   "execution_count": 34,
   "metadata": {},
   "outputs": [],
   "source": [
    "def handle_collision(dic1, str1):\n",
    "    if dic1.get(len(str1)) is None:\n",
    "        ls = [str1]\n",
    "    else:\n",
    "        ls = dic1[len(str1)]\n",
    "        ls.append(str1)\n",
    "    dic1[len(str1)] = ls"
   ]
  },
  {
   "cell_type": "code",
   "execution_count": 35,
   "metadata": {
    "tags": []
   },
   "outputs": [
    {
     "output_type": "stream",
     "name": "stdout",
     "text": "True\n"
    }
   ],
   "source": [
    "dic1_orig = {3: ['ham', 'egg'], 6: ['coffee', 'brandy'], 9: ['port wine'], 15: ['curried chicken']}\n",
    "dic1_result = {3: ['ham', 'egg', 'tea'], 6: ['coffee', 'brandy'], 9: ['port wine'], 15: ['curried chicken']}\n",
    "handle_collision(dic1_orig, 'tea')\n",
    "print(dic1_orig == dic1_result)"
   ]
  }
 ]
}