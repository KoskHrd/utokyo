{
 "metadata": {
  "language_info": {
   "codemirror_mode": {
    "name": "ipython",
    "version": 3
   },
   "file_extension": ".py",
   "mimetype": "text/x-python",
   "name": "python",
   "nbconvert_exporter": "python",
   "pygments_lexer": "ipython3",
   "version": 3
  },
  "orig_nbformat": 2,
  "kernelspec": {
   "name": "python_defaultSpec_1595822845211",
   "display_name": "Python 3.7.6 64-bit ('55298': virtualenv)"
  }
 },
 "nbformat": 4,
 "nbformat_minor": 2,
 "cells": [
  {
   "cell_type": "markdown",
   "metadata": {},
   "source": [
    "# 練習¶\n",
    "関数 exception3(x,y,z) の引数は以下の条件を満たすとします。\n",
    "\n",
    "x と y と z の値は整数です。\n",
    "\n",
    "x と y と z のうち、2つの値は同じで、もう1つの値は他の2つの値とは異なるとします。\n",
    "\n",
    "その異なる値を返すように、以下のセルの ... のところを書き換えて exception3(x,y,z) を定義してください。"
   ]
  },
  {
   "cell_type": "code",
   "execution_count": 1,
   "metadata": {},
   "outputs": [],
   "source": [
    "def exception3(x,y,z):\n",
    "    if x==y:    return z\n",
    "    elif x==z:  return y\n",
    "    else:       return x"
   ]
  },
  {
   "cell_type": "code",
   "execution_count": 2,
   "metadata": {
    "tags": []
   },
   "outputs": [
    {
     "output_type": "stream",
     "name": "stdout",
     "text": "1\n2\n3\n"
    }
   ],
   "source": [
    "print(exception3(1,2,2))\n",
    "print(exception3(4,2,4))\n",
    "print(exception3(9,3,9))"
   ]
  },
  {
   "cell_type": "markdown",
   "metadata": {},
   "source": [
    "# 練習¶\n",
    "関数 exception9(a) の引数は以下の条件を満たすとします。\n",
    "\n",
    "引数 a には、長さが9のリストが渡されます。\n",
    "\n",
    "このリストの要素は整数ですが、一つの要素を除いて、残りは要素の値はすべて同じとします。\n",
    "\n",
    "その一つの要素の値を返すように、以下のセルの ... のところを書き換えて exception9(a) を定義してください。"
   ]
  },
  {
   "cell_type": "code",
   "execution_count": 3,
   "metadata": {},
   "outputs": [],
   "source": [
    "def exception9(a):\n",
    "    x = a[0]+a[1]+a[2]\n",
    "    y = a[3]+a[4]+a[5]\n",
    "    z = a[6]+a[7]+a[8]\n",
    "    if x==y:    return exception3(a[6],a[7],a[8])\n",
    "    elif x==z:  return exception3(a[3],a[4],a[5])\n",
    "    else:       return exception3(a[0],a[1],a[2])"
   ]
  },
  {
   "cell_type": "code",
   "execution_count": 4,
   "metadata": {
    "tags": []
   },
   "outputs": [
    {
     "output_type": "stream",
     "name": "stdout",
     "text": "1\n2\n3\n"
    }
   ],
   "source": [
    "print(exception9([1,2,2,2,2,2,2,2,2]))\n",
    "print(exception9([4,4,4,4,4,2,4,4,4]))\n",
    "print(exception9([9,9,9,9,9,9,9,9,3]))"
   ]
  },
  {
   "cell_type": "code",
   "execution_count": 6,
   "metadata": {
    "tags": []
   },
   "outputs": [
    {
     "output_type": "stream",
     "name": "stdout",
     "text": "x, y and z are different and negatives.\nx, y and z are different and negatives.\n"
    }
   ],
   "source": [
    "### 丸括弧で括る方法\n",
    "x, y, z = (-1, -2, -3)\n",
    "if (x < 0 and y < 0 and z < 0 and\n",
    "    x != y and y != z and x != z):\n",
    "    print('x, y and z are different and negatives.')\n",
    "\n",
    "### 行末にバックスラッシュ(\\) を入れる方法\n",
    "x, y, z = (-1, -2, -3)\n",
    "if x < 0 and y < 0 and z < 0 and \\\n",
    "    x != y and y != z and x != z:\n",
    "    print('x, y and z are different and negatives.')"
   ]
  },
  {
   "cell_type": "code",
   "execution_count": 9,
   "metadata": {
    "tags": []
   },
   "outputs": [
    {
     "output_type": "stream",
     "name": "stdout",
     "text": "x is less than zero, but x will be 0\n0\n"
    }
   ],
   "source": [
    "x = -4  # example: 3, 0, -4\n",
    "\n",
    "if x > 0:\n",
    "    print('x is greater than zero.')\n",
    "elif x < 0:\n",
    "    print('x is less than zero, but x will be 0')\n",
    "    x = 0\n",
    "else:\n",
    "    print('x is zero.')\n",
    "\n",
    "print(x)"
   ]
  },
  {
   "cell_type": "markdown",
   "metadata": {},
   "source": [
    "# 練習\n",
    "以下のプログラムはプログラマの意図どおりに動作しません。 print の出力内容から意図を判断して条件分岐を書き換えてください。"
   ]
  },
  {
   "cell_type": "code",
   "execution_count": 10,
   "metadata": {
    "tags": []
   },
   "outputs": [
    {
     "output_type": "stream",
     "name": "stdout",
     "text": "x is larger than or equal to 2, and less than 3\n"
    }
   ],
   "source": [
    "x = -1\n",
    "if x < 3:\n",
    "    print('x is larger than or equal to 2, and less than 3')\n",
    "elif x < 2:\n",
    "    print('x is larger than or equal to 1, and less than 2')\n",
    "elif x < 1:\n",
    "    print('x is less than 1')\n",
    "else:\n",
    "    print('x is larger or equal to 3')"
   ]
  },
  {
   "cell_type": "code",
   "execution_count": 11,
   "metadata": {
    "tags": []
   },
   "outputs": [
    {
     "output_type": "stream",
     "name": "stdout",
     "text": "x is less than 1\n"
    }
   ],
   "source": [
    "x = -1\n",
    "if x < 1:\n",
    "    print('x is less than 1')\n",
    "elif x < 2:\n",
    "    print('x is larger than or equal to 1, and less than 2')\n",
    "elif x < 3:\n",
    "    print('x is larger than or equal to 2, and less than 3')\n",
    "else:\n",
    "    print('x is larger or equal to 3')"
   ]
  },
  {
   "cell_type": "code",
   "execution_count": 14,
   "metadata": {},
   "outputs": [
    {
     "output_type": "error",
     "ename": "NameError",
     "evalue": "name 'x' is not defined",
     "traceback": [
      "\u001b[1;31m---------------------------------------------------------------------------\u001b[0m",
      "\u001b[1;31mNameError\u001b[0m                                 Traceback (most recent call last)",
      "\u001b[1;32m<ipython-input-14-d934fff84e32>\u001b[0m in \u001b[0;36m<module>\u001b[1;34m\u001b[0m\n\u001b[0;32m      4\u001b[0m \u001b[1;32mdel\u001b[0m \u001b[0mx\u001b[0m           \u001b[1;31m# x を未定義に\u001b[0m\u001b[1;33m\u001b[0m\u001b[1;33m\u001b[0m\u001b[0m\n\u001b[0;32m      5\u001b[0m \u001b[1;33m\u001b[0m\u001b[0m\n\u001b[1;32m----> 6\u001b[1;33m \u001b[1;32mif\u001b[0m \u001b[0mx\u001b[0m \u001b[1;33m>\u001b[0m \u001b[1;36m5\u001b[0m \u001b[1;32mor\u001b[0m \u001b[0my\u001b[0m \u001b[1;33m>\u001b[0m \u001b[1;36m5\u001b[0m\u001b[1;33m:\u001b[0m\u001b[1;33m\u001b[0m\u001b[1;33m\u001b[0m\u001b[0m\n\u001b[0m\u001b[0;32m      7\u001b[0m     \u001b[0mprint\u001b[0m\u001b[1;33m(\u001b[0m\u001b[1;34m\"'x' or 'y' is larger than 5\"\u001b[0m\u001b[1;33m)\u001b[0m\u001b[1;33m\u001b[0m\u001b[1;33m\u001b[0m\u001b[0m\n",
      "\u001b[1;31mNameError\u001b[0m: name 'x' is not defined"
     ]
    }
   ],
   "source": [
    "x = 10          # del x のエラーを抑制するため\n",
    "y = 10\n",
    "\n",
    "del x           # x を未定義に\n",
    "\n",
    "if x > 5 or y > 5:\n",
    "    print(\"'x' or 'y' is larger than 5\")"
   ]
  },
  {
   "cell_type": "code",
   "execution_count": 20,
   "metadata": {
    "tags": []
   },
   "outputs": [
    {
     "output_type": "stream",
     "name": "stdout",
     "text": "'x' or 'y' is larger than 5\n"
    }
   ],
   "source": [
    "x = 10\n",
    "y = 10          # del y のエラーを抑制するため\n",
    "\n",
    "del y           # y を未定義に\n",
    "\n",
    "if x > 5 or y > 5:\n",
    "    print(\"'x' or 'y' is larger than 5\")"
   ]
  },
  {
   "cell_type": "code",
   "execution_count": 21,
   "metadata": {
    "tags": []
   },
   "outputs": [
    {
     "output_type": "stream",
     "name": "stdout",
     "text": "positive or zero\n"
    }
   ],
   "source": [
    "x = 0\n",
    "sign = 'positive or zero' if x >= 0 else 'negative'\n",
    "print(sign)"
   ]
  },
  {
   "cell_type": "code",
   "execution_count": 22,
   "metadata": {
    "tags": []
   },
   "outputs": [
    {
     "output_type": "stream",
     "name": "stdout",
     "text": "positive or zero\n"
    }
   ],
   "source": [
    "x = 0\n",
    "if x >= 0 :\n",
    "    sign = 'positive or zero'\n",
    "else:\n",
    "    sign = 'negative'\n",
    "print(sign)"
   ]
  },
  {
   "cell_type": "code",
   "execution_count": null,
   "metadata": {},
   "outputs": [],
   "source": []
  }
 ]
}